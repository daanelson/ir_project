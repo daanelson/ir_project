{
 "cells": [
  {
   "cell_type": "code",
   "execution_count": 1,
   "metadata": {
    "collapsed": false
   },
   "outputs": [
    {
     "name": "stderr",
     "output_type": "stream",
     "text": [
      "Using TensorFlow backend.\n"
     ]
    }
   ],
   "source": [
    "# Model training for DRMM\n",
    "from keras.models import Sequential\n",
    "from keras.layers import Dense, Activation, Dropout\n",
    "from keras.optimizers import SGD\n",
    "from keras.utils.np_utils import to_categorical\n",
    "from keras.regularizers import l1, activity_l1, l2\n",
    "from keras.layers import Input, LSTM, Dense, merge, Dropout\n",
    "from keras.models import Model\n",
    "from collections import defaultdict\n",
    "import numpy as np\n",
    "import make_test_data\n",
    "import pickle as pkl\n",
    "import os\n",
    "import pdb\n",
    "from sklearn.linear_model import LogisticRegression\n",
    "\n",
    "#TODO: fix root, remove key restrictions\n",
    "\n",
    "# Placeholder data parsing\n",
    "def get_data(histograms, training_year=2014, training=True):\n",
    "    # Proposed format: [doc_id topic_id h0 h1 h2 h3 ...]\n",
    "    #data_root = '/scratch/cluster/dnelson/ir_proj'\n",
    "\n",
    "    # can set this to 2015 to read in annotations for 2015 instead\n",
    "    # format: label_dict[doc_id][topic_id] = ground truth\n",
    "    label_dict = make_test_data.make_truth(training_year)\n",
    "\n",
    "    # enforcing order on a dictionary & downsampling to only data w/judgments for training\n",
    "    key_array = histograms.keys()\n",
    "    if training:\n",
    "        key_array = [val for val in key_array if label_dict[int(val[0])][int(val[1])+1] >= 0]\n",
    "\n",
    "    X = np.array([[hist_list[1] for hist_list in histograms[key]] for key in key_array])\n",
    "    Y = np.array([label_dict[int(key[0])][int(key[1])+1] for key in key_array])\n",
    "    \n",
    "    MAX_LEN = 25\n",
    "    X = [val + [np.zeros(29)]*(MAX_LEN-len(val)) if len(val) < 25 else val[:25] for val in X]\n",
    "    return X, Y, key_array\n",
    "\n",
    "def get_dict(training_year=2014):\n",
    "    data_root = '/Users/Dan/class/deep_ir/project/data'\n",
    "    \n",
    "    with open(os.path.join(data_root, 'term_histograms_%d' % training_year), 'r') as f:\n",
    "        histograms = pkl.load(f)\n",
    "    return histograms\n",
    "\n",
    "\n",
    "def get_fake_data():\n",
    "    X_train = np.random.rand(1000, 29)\n",
    "\n",
    "    # roughly uniform dist of 0, 0.5, 1\n",
    "    rand_vals = np.random.rand(1000)\n",
    "    Y_train = np.array([np.floor(val * 3)/2.0 for val in rand_vals])\n",
    "    return X_train, Y_train"
   ]
  },
  {
   "cell_type": "code",
   "execution_count": 2,
   "metadata": {
    "collapsed": true
   },
   "outputs": [],
   "source": [
    "# Get all data for maximum iteration funtime power\n",
    "# THIS IS THE LONG PART\n",
    "train_dict = get_dict(training_year=2014)\n",
    "test_dict = get_dict(training_year=2015)"
   ]
  },
  {
   "cell_type": "code",
   "execution_count": 28,
   "metadata": {
    "collapsed": false
   },
   "outputs": [
    {
     "name": "stdout",
     "output_type": "stream",
     "text": [
      "qrels2014.txt\n"
     ]
    }
   ],
   "source": [
    "X_train, Y_train, _ = get_data(train_dict, training_year=2014, training=True)\n"
   ]
  },
  {
   "cell_type": "code",
   "execution_count": 27,
   "metadata": {
    "collapsed": false
   },
   "outputs": [
    {
     "name": "stdout",
     "output_type": "stream",
     "text": [
      "qrels-treceval-2015.txt\n"
     ]
    }
   ],
   "source": [
    "#X_train, Y_train = get_fake_data()\n",
    "X_test, Y_test, test_keys = get_data(test_dict, training_year=2015, training=False)"
   ]
  },
  {
   "cell_type": "code",
   "execution_count": 57,
   "metadata": {
    "collapsed": true
   },
   "outputs": [],
   "source": [
    "# ASIDE - this is how you make your own loss function. Not necessary but fun to play with.\n",
    "from keras import backend as K\n",
    "\n",
    "def supercool_loss(y_true, y_pred):\n",
    "    return K.mean(K.abs(y_true*10 - y_pred))\n",
    "    "
   ]
  },
  {
   "cell_type": "code",
   "execution_count": 2,
   "metadata": {
    "collapsed": false
   },
   "outputs": [],
   "source": [
    "from keras.regularizers import l1, activity_l1, l2\n",
    "from keras.layers import Input, LSTM, Dense, merge, Dropout\n",
    "from keras.models import Model"
   ]
  },
  {
   "cell_type": "code",
   "execution_count": 3,
   "metadata": {
    "collapsed": false
   },
   "outputs": [],
   "source": [
    "# Create model (input_shape is inferred after first layer)\n",
    "# This model is a regression\n",
    "\n",
    "# Defines all shared weight layers for feedforward network\n",
    "num_inputs = 25\n",
    "shared_dense = Dense(5, activation='relu')\n",
    "shared_dropout = Dropout(0.5)\n",
    "shared_score = Dense(1, activation='relu')\n",
    "\n",
    "# constructs parallel shared layers for each input\n",
    "inputs = [Input(shape=(29,)) for val in range(num_inputs)]\n",
    "output_1 = [shared_dense(val) for val in inputs]\n",
    "output_d = [shared_dropout(val) for val in output_1]\n",
    "output_score = [shared_score(val) for val in output_d]\n",
    "concat_vals = merge(output_score, mode='concat')\n",
    "\n",
    "# Defines term weighting network\n",
    "shared_term_weight = Dense(1, activation='relu')\n",
    "term_weight_list = [shared_term_weight(val) for val in inputs]\n",
    "term_weights = merge(term_weight_list, mode='concat')\n",
    "\n",
    "# Dot product over terms to weight them properly\n",
    "output = merge([concat_vals, term_weights], mode='dot', dot_axes=1)\n",
    "final_output = Dense(1, activation='relu')(output)\n",
    "\n",
    "model = Model(input=inputs, output=final_output)\n",
    "# Compile model\n",
    "sgd = SGD(lr=0.01, decay=1e-6, momentum=0.9, nesterov=True, clipnorm=1.)\n",
    "model.compile(loss='mean_squared_error', optimizer=sgd, metrics=['binary_accuracy'])"
   ]
  },
  {
   "cell_type": "code",
   "execution_count": 25,
   "metadata": {
    "collapsed": false
   },
   "outputs": [
    {
     "name": "stdout",
     "output_type": "stream",
     "text": [
      "Epoch 1/1\n"
     ]
    },
    {
     "ename": "InvalidArgumentError",
     "evalue": "Matrix size-compatible: In[0]: [20,20], In[1]: [1,1]\n\t [[Node: MatMul_225 = MatMul[T=DT_FLOAT, transpose_a=false, transpose_b=false, _device=\"/job:localhost/replica:0/task:0/cpu:0\"](BatchMatMul_2, dense_12_W/read)]]\nCaused by op u'MatMul_225', defined at:\n  File \"/Users/Dan/anaconda/envs/hw2/lib/python2.7/runpy.py\", line 174, in _run_module_as_main\n    \"__main__\", fname, loader, pkg_name)\n  File \"/Users/Dan/anaconda/envs/hw2/lib/python2.7/runpy.py\", line 72, in _run_code\n    exec code in run_globals\n  File \"/Users/Dan/anaconda/envs/hw2/lib/python2.7/site-packages/ipykernel/__main__.py\", line 3, in <module>\n    app.launch_new_instance()\n  File \"/Users/Dan/anaconda/envs/hw2/lib/python2.7/site-packages/traitlets/config/application.py\", line 653, in launch_instance\n    app.start()\n  File \"/Users/Dan/anaconda/envs/hw2/lib/python2.7/site-packages/ipykernel/kernelapp.py\", line 474, in start\n    ioloop.IOLoop.instance().start()\n  File \"/Users/Dan/anaconda/envs/hw2/lib/python2.7/site-packages/zmq/eventloop/ioloop.py\", line 162, in start\n    super(ZMQIOLoop, self).start()\n  File \"/Users/Dan/anaconda/envs/hw2/lib/python2.7/site-packages/tornado/ioloop.py\", line 887, in start\n    handler_func(fd_obj, events)\n  File \"/Users/Dan/anaconda/envs/hw2/lib/python2.7/site-packages/tornado/stack_context.py\", line 275, in null_wrapper\n    return fn(*args, **kwargs)\n  File \"/Users/Dan/anaconda/envs/hw2/lib/python2.7/site-packages/zmq/eventloop/zmqstream.py\", line 440, in _handle_events\n    self._handle_recv()\n  File \"/Users/Dan/anaconda/envs/hw2/lib/python2.7/site-packages/zmq/eventloop/zmqstream.py\", line 472, in _handle_recv\n    self._run_callback(callback, msg)\n  File \"/Users/Dan/anaconda/envs/hw2/lib/python2.7/site-packages/zmq/eventloop/zmqstream.py\", line 414, in _run_callback\n    callback(*args, **kwargs)\n  File \"/Users/Dan/anaconda/envs/hw2/lib/python2.7/site-packages/tornado/stack_context.py\", line 275, in null_wrapper\n    return fn(*args, **kwargs)\n  File \"/Users/Dan/anaconda/envs/hw2/lib/python2.7/site-packages/ipykernel/kernelbase.py\", line 276, in dispatcher\n    return self.dispatch_shell(stream, msg)\n  File \"/Users/Dan/anaconda/envs/hw2/lib/python2.7/site-packages/ipykernel/kernelbase.py\", line 228, in dispatch_shell\n    handler(stream, idents, msg)\n  File \"/Users/Dan/anaconda/envs/hw2/lib/python2.7/site-packages/ipykernel/kernelbase.py\", line 390, in execute_request\n    user_expressions, allow_stdin)\n  File \"/Users/Dan/anaconda/envs/hw2/lib/python2.7/site-packages/ipykernel/ipkernel.py\", line 196, in do_execute\n    res = shell.run_cell(code, store_history=store_history, silent=silent)\n  File \"/Users/Dan/anaconda/envs/hw2/lib/python2.7/site-packages/ipykernel/zmqshell.py\", line 501, in run_cell\n    return super(ZMQInteractiveShell, self).run_cell(*args, **kwargs)\n  File \"/Users/Dan/anaconda/envs/hw2/lib/python2.7/site-packages/IPython/core/interactiveshell.py\", line 2717, in run_cell\n    interactivity=interactivity, compiler=compiler, result=result)\n  File \"/Users/Dan/anaconda/envs/hw2/lib/python2.7/site-packages/IPython/core/interactiveshell.py\", line 2821, in run_ast_nodes\n    if self.run_code(code, result):\n  File \"/Users/Dan/anaconda/envs/hw2/lib/python2.7/site-packages/IPython/core/interactiveshell.py\", line 2881, in run_code\n    exec(code_obj, self.user_global_ns, self.user_ns)\n  File \"<ipython-input-22-379078536575>\", line 24, in <module>\n    final_output = Dense(1, activation='relu')(output)\n  File \"/Users/Dan/anaconda/envs/hw2/lib/python2.7/site-packages/keras/engine/topology.py\", line 514, in __call__\n    self.add_inbound_node(inbound_layers, node_indices, tensor_indices)\n  File \"/Users/Dan/anaconda/envs/hw2/lib/python2.7/site-packages/keras/engine/topology.py\", line 572, in add_inbound_node\n    Node.create_node(self, inbound_layers, node_indices, tensor_indices)\n  File \"/Users/Dan/anaconda/envs/hw2/lib/python2.7/site-packages/keras/engine/topology.py\", line 149, in create_node\n    output_tensors = to_list(outbound_layer.call(input_tensors[0], mask=input_masks[0]))\n  File \"/Users/Dan/anaconda/envs/hw2/lib/python2.7/site-packages/keras/layers/core.py\", line 727, in call\n    output = K.dot(x, self.W)\n  File \"/Users/Dan/anaconda/envs/hw2/lib/python2.7/site-packages/keras/backend/tensorflow_backend.py\", line 349, in dot\n    out = tf.matmul(x, y)\n  File \"/Users/Dan/anaconda/envs/hw2/lib/python2.7/site-packages/tensorflow/python/ops/math_ops.py\", line 1352, in matmul\n    name=name)\n  File \"/Users/Dan/anaconda/envs/hw2/lib/python2.7/site-packages/tensorflow/python/ops/gen_math_ops.py\", line 1296, in _mat_mul\n    transpose_b=transpose_b, name=name)\n  File \"/Users/Dan/anaconda/envs/hw2/lib/python2.7/site-packages/tensorflow/python/framework/op_def_library.py\", line 703, in apply_op\n    op_def=op_def)\n  File \"/Users/Dan/anaconda/envs/hw2/lib/python2.7/site-packages/tensorflow/python/framework/ops.py\", line 2317, in create_op\n    original_op=self._default_original_op, op_def=op_def)\n  File \"/Users/Dan/anaconda/envs/hw2/lib/python2.7/site-packages/tensorflow/python/framework/ops.py\", line 1239, in __init__\n    self._traceback = _extract_stack()\n",
     "output_type": "error",
     "traceback": [
      "\u001b[0;31m---------------------------------------------------------------------------\u001b[0m",
      "\u001b[0;31mInvalidArgumentError\u001b[0m                      Traceback (most recent call last)",
      "\u001b[0;32m<ipython-input-25-27315cba2810>\u001b[0m in \u001b[0;36m<module>\u001b[0;34m()\u001b[0m\n\u001b[1;32m      2\u001b[0m \u001b[0mX_train\u001b[0m \u001b[0;34m=\u001b[0m \u001b[0mnp\u001b[0m\u001b[0;34m.\u001b[0m\u001b[0marray\u001b[0m\u001b[0;34m(\u001b[0m\u001b[0mX_train\u001b[0m\u001b[0;34m)\u001b[0m\u001b[0;34m\u001b[0m\u001b[0m\n\u001b[1;32m      3\u001b[0m \u001b[0mX_train_list\u001b[0m \u001b[0;34m=\u001b[0m \u001b[0;34m[\u001b[0m\u001b[0mX_train\u001b[0m\u001b[0;34m[\u001b[0m\u001b[0;34m:\u001b[0m\u001b[0;34m,\u001b[0m\u001b[0mval\u001b[0m\u001b[0;34m,\u001b[0m\u001b[0;34m:\u001b[0m\u001b[0;34m]\u001b[0m \u001b[0;32mfor\u001b[0m \u001b[0mval\u001b[0m \u001b[0;32min\u001b[0m \u001b[0mrange\u001b[0m\u001b[0;34m(\u001b[0m\u001b[0mX_train\u001b[0m\u001b[0;34m.\u001b[0m\u001b[0mshape\u001b[0m\u001b[0;34m[\u001b[0m\u001b[0;36m1\u001b[0m\u001b[0;34m]\u001b[0m\u001b[0;34m)\u001b[0m\u001b[0;34m]\u001b[0m\u001b[0;34m\u001b[0m\u001b[0m\n\u001b[0;32m----> 4\u001b[0;31m \u001b[0mmodel\u001b[0m\u001b[0;34m.\u001b[0m\u001b[0mfit\u001b[0m\u001b[0;34m(\u001b[0m\u001b[0mX_train_list\u001b[0m\u001b[0;34m,\u001b[0m \u001b[0mY_train\u001b[0m\u001b[0;34m,\u001b[0m \u001b[0mnb_epoch\u001b[0m\u001b[0;34m=\u001b[0m\u001b[0;36m1\u001b[0m\u001b[0;34m,\u001b[0m \u001b[0mbatch_size\u001b[0m\u001b[0;34m=\u001b[0m\u001b[0;36m20\u001b[0m\u001b[0;34m)\u001b[0m\u001b[0;34m\u001b[0m\u001b[0m\n\u001b[0m",
      "\u001b[0;32m/Users/Dan/anaconda/envs/hw2/lib/python2.7/site-packages/keras/engine/training.pyc\u001b[0m in \u001b[0;36mfit\u001b[0;34m(self, x, y, batch_size, nb_epoch, verbose, callbacks, validation_split, validation_data, shuffle, class_weight, sample_weight)\u001b[0m\n\u001b[1;32m   1104\u001b[0m                               \u001b[0mverbose\u001b[0m\u001b[0;34m=\u001b[0m\u001b[0mverbose\u001b[0m\u001b[0;34m,\u001b[0m \u001b[0mcallbacks\u001b[0m\u001b[0;34m=\u001b[0m\u001b[0mcallbacks\u001b[0m\u001b[0;34m,\u001b[0m\u001b[0;34m\u001b[0m\u001b[0m\n\u001b[1;32m   1105\u001b[0m                               \u001b[0mval_f\u001b[0m\u001b[0;34m=\u001b[0m\u001b[0mval_f\u001b[0m\u001b[0;34m,\u001b[0m \u001b[0mval_ins\u001b[0m\u001b[0;34m=\u001b[0m\u001b[0mval_ins\u001b[0m\u001b[0;34m,\u001b[0m \u001b[0mshuffle\u001b[0m\u001b[0;34m=\u001b[0m\u001b[0mshuffle\u001b[0m\u001b[0;34m,\u001b[0m\u001b[0;34m\u001b[0m\u001b[0m\n\u001b[0;32m-> 1106\u001b[0;31m                               callback_metrics=callback_metrics)\n\u001b[0m\u001b[1;32m   1107\u001b[0m \u001b[0;34m\u001b[0m\u001b[0m\n\u001b[1;32m   1108\u001b[0m     \u001b[0;32mdef\u001b[0m \u001b[0mevaluate\u001b[0m\u001b[0;34m(\u001b[0m\u001b[0mself\u001b[0m\u001b[0;34m,\u001b[0m \u001b[0mx\u001b[0m\u001b[0;34m,\u001b[0m \u001b[0my\u001b[0m\u001b[0;34m,\u001b[0m \u001b[0mbatch_size\u001b[0m\u001b[0;34m=\u001b[0m\u001b[0;36m32\u001b[0m\u001b[0;34m,\u001b[0m \u001b[0mverbose\u001b[0m\u001b[0;34m=\u001b[0m\u001b[0;36m1\u001b[0m\u001b[0;34m,\u001b[0m \u001b[0msample_weight\u001b[0m\u001b[0;34m=\u001b[0m\u001b[0mNone\u001b[0m\u001b[0;34m)\u001b[0m\u001b[0;34m:\u001b[0m\u001b[0;34m\u001b[0m\u001b[0m\n",
      "\u001b[0;32m/Users/Dan/anaconda/envs/hw2/lib/python2.7/site-packages/keras/engine/training.pyc\u001b[0m in \u001b[0;36m_fit_loop\u001b[0;34m(self, f, ins, out_labels, batch_size, nb_epoch, verbose, callbacks, val_f, val_ins, shuffle, callback_metrics)\u001b[0m\n\u001b[1;32m    822\u001b[0m                 \u001b[0mbatch_logs\u001b[0m\u001b[0;34m[\u001b[0m\u001b[0;34m'size'\u001b[0m\u001b[0;34m]\u001b[0m \u001b[0;34m=\u001b[0m \u001b[0mlen\u001b[0m\u001b[0;34m(\u001b[0m\u001b[0mbatch_ids\u001b[0m\u001b[0;34m)\u001b[0m\u001b[0;34m\u001b[0m\u001b[0m\n\u001b[1;32m    823\u001b[0m                 \u001b[0mcallbacks\u001b[0m\u001b[0;34m.\u001b[0m\u001b[0mon_batch_begin\u001b[0m\u001b[0;34m(\u001b[0m\u001b[0mbatch_index\u001b[0m\u001b[0;34m,\u001b[0m \u001b[0mbatch_logs\u001b[0m\u001b[0;34m)\u001b[0m\u001b[0;34m\u001b[0m\u001b[0m\n\u001b[0;32m--> 824\u001b[0;31m                 \u001b[0mouts\u001b[0m \u001b[0;34m=\u001b[0m \u001b[0mf\u001b[0m\u001b[0;34m(\u001b[0m\u001b[0mins_batch\u001b[0m\u001b[0;34m)\u001b[0m\u001b[0;34m\u001b[0m\u001b[0m\n\u001b[0m\u001b[1;32m    825\u001b[0m                 \u001b[0;32mif\u001b[0m \u001b[0mtype\u001b[0m\u001b[0;34m(\u001b[0m\u001b[0mouts\u001b[0m\u001b[0;34m)\u001b[0m \u001b[0;34m!=\u001b[0m \u001b[0mlist\u001b[0m\u001b[0;34m:\u001b[0m\u001b[0;34m\u001b[0m\u001b[0m\n\u001b[1;32m    826\u001b[0m                     \u001b[0mouts\u001b[0m \u001b[0;34m=\u001b[0m \u001b[0;34m[\u001b[0m\u001b[0mouts\u001b[0m\u001b[0;34m]\u001b[0m\u001b[0;34m\u001b[0m\u001b[0m\n",
      "\u001b[0;32m/Users/Dan/anaconda/envs/hw2/lib/python2.7/site-packages/keras/backend/tensorflow_backend.pyc\u001b[0m in \u001b[0;36m__call__\u001b[0;34m(self, inputs)\u001b[0m\n\u001b[1;32m   1011\u001b[0m             \u001b[0mfeed_dict\u001b[0m\u001b[0;34m[\u001b[0m\u001b[0mtensor\u001b[0m\u001b[0;34m]\u001b[0m \u001b[0;34m=\u001b[0m \u001b[0mvalue\u001b[0m\u001b[0;34m\u001b[0m\u001b[0m\n\u001b[1;32m   1012\u001b[0m         \u001b[0msession\u001b[0m \u001b[0;34m=\u001b[0m \u001b[0mget_session\u001b[0m\u001b[0;34m(\u001b[0m\u001b[0;34m)\u001b[0m\u001b[0;34m\u001b[0m\u001b[0m\n\u001b[0;32m-> 1013\u001b[0;31m         \u001b[0mupdated\u001b[0m \u001b[0;34m=\u001b[0m \u001b[0msession\u001b[0m\u001b[0;34m.\u001b[0m\u001b[0mrun\u001b[0m\u001b[0;34m(\u001b[0m\u001b[0mself\u001b[0m\u001b[0;34m.\u001b[0m\u001b[0moutputs\u001b[0m \u001b[0;34m+\u001b[0m \u001b[0;34m[\u001b[0m\u001b[0mself\u001b[0m\u001b[0;34m.\u001b[0m\u001b[0mupdates_op\u001b[0m\u001b[0;34m]\u001b[0m\u001b[0;34m,\u001b[0m \u001b[0mfeed_dict\u001b[0m\u001b[0;34m=\u001b[0m\u001b[0mfeed_dict\u001b[0m\u001b[0;34m)\u001b[0m\u001b[0;34m\u001b[0m\u001b[0m\n\u001b[0m\u001b[1;32m   1014\u001b[0m         \u001b[0;32mreturn\u001b[0m \u001b[0mupdated\u001b[0m\u001b[0;34m[\u001b[0m\u001b[0;34m:\u001b[0m\u001b[0mlen\u001b[0m\u001b[0;34m(\u001b[0m\u001b[0mself\u001b[0m\u001b[0;34m.\u001b[0m\u001b[0moutputs\u001b[0m\u001b[0;34m)\u001b[0m\u001b[0;34m]\u001b[0m\u001b[0;34m\u001b[0m\u001b[0m\n\u001b[1;32m   1015\u001b[0m \u001b[0;34m\u001b[0m\u001b[0m\n",
      "\u001b[0;32m/Users/Dan/anaconda/envs/hw2/lib/python2.7/site-packages/tensorflow/python/client/session.pyc\u001b[0m in \u001b[0;36mrun\u001b[0;34m(self, fetches, feed_dict, options, run_metadata)\u001b[0m\n\u001b[1;32m    708\u001b[0m     \u001b[0;32mtry\u001b[0m\u001b[0;34m:\u001b[0m\u001b[0;34m\u001b[0m\u001b[0m\n\u001b[1;32m    709\u001b[0m       result = self._run(None, fetches, feed_dict, options_ptr,\n\u001b[0;32m--> 710\u001b[0;31m                          run_metadata_ptr)\n\u001b[0m\u001b[1;32m    711\u001b[0m       \u001b[0;32mif\u001b[0m \u001b[0mrun_metadata\u001b[0m\u001b[0;34m:\u001b[0m\u001b[0;34m\u001b[0m\u001b[0m\n\u001b[1;32m    712\u001b[0m         \u001b[0mproto_data\u001b[0m \u001b[0;34m=\u001b[0m \u001b[0mtf_session\u001b[0m\u001b[0;34m.\u001b[0m\u001b[0mTF_GetBuffer\u001b[0m\u001b[0;34m(\u001b[0m\u001b[0mrun_metadata_ptr\u001b[0m\u001b[0;34m)\u001b[0m\u001b[0;34m\u001b[0m\u001b[0m\n",
      "\u001b[0;32m/Users/Dan/anaconda/envs/hw2/lib/python2.7/site-packages/tensorflow/python/client/session.pyc\u001b[0m in \u001b[0;36m_run\u001b[0;34m(self, handle, fetches, feed_dict, options, run_metadata)\u001b[0m\n\u001b[1;32m    906\u001b[0m     \u001b[0;32mif\u001b[0m \u001b[0mfinal_fetches\u001b[0m \u001b[0;32mor\u001b[0m \u001b[0mfinal_targets\u001b[0m\u001b[0;34m:\u001b[0m\u001b[0;34m\u001b[0m\u001b[0m\n\u001b[1;32m    907\u001b[0m       results = self._do_run(handle, final_targets, final_fetches,\n\u001b[0;32m--> 908\u001b[0;31m                              feed_dict_string, options, run_metadata)\n\u001b[0m\u001b[1;32m    909\u001b[0m     \u001b[0;32melse\u001b[0m\u001b[0;34m:\u001b[0m\u001b[0;34m\u001b[0m\u001b[0m\n\u001b[1;32m    910\u001b[0m       \u001b[0mresults\u001b[0m \u001b[0;34m=\u001b[0m \u001b[0;34m[\u001b[0m\u001b[0;34m]\u001b[0m\u001b[0;34m\u001b[0m\u001b[0m\n",
      "\u001b[0;32m/Users/Dan/anaconda/envs/hw2/lib/python2.7/site-packages/tensorflow/python/client/session.pyc\u001b[0m in \u001b[0;36m_do_run\u001b[0;34m(self, handle, target_list, fetch_list, feed_dict, options, run_metadata)\u001b[0m\n\u001b[1;32m    956\u001b[0m     \u001b[0;32mif\u001b[0m \u001b[0mhandle\u001b[0m \u001b[0;32mis\u001b[0m \u001b[0mNone\u001b[0m\u001b[0;34m:\u001b[0m\u001b[0;34m\u001b[0m\u001b[0m\n\u001b[1;32m    957\u001b[0m       return self._do_call(_run_fn, self._session, feed_dict, fetch_list,\n\u001b[0;32m--> 958\u001b[0;31m                            target_list, options, run_metadata)\n\u001b[0m\u001b[1;32m    959\u001b[0m     \u001b[0;32melse\u001b[0m\u001b[0;34m:\u001b[0m\u001b[0;34m\u001b[0m\u001b[0m\n\u001b[1;32m    960\u001b[0m       return self._do_call(_prun_fn, self._session, handle, feed_dict,\n",
      "\u001b[0;32m/Users/Dan/anaconda/envs/hw2/lib/python2.7/site-packages/tensorflow/python/client/session.pyc\u001b[0m in \u001b[0;36m_do_call\u001b[0;34m(self, fn, *args)\u001b[0m\n\u001b[1;32m    976\u001b[0m         \u001b[0;32mexcept\u001b[0m \u001b[0mKeyError\u001b[0m\u001b[0;34m:\u001b[0m\u001b[0;34m\u001b[0m\u001b[0m\n\u001b[1;32m    977\u001b[0m           \u001b[0;32mpass\u001b[0m\u001b[0;34m\u001b[0m\u001b[0m\n\u001b[0;32m--> 978\u001b[0;31m       \u001b[0;32mraise\u001b[0m \u001b[0mtype\u001b[0m\u001b[0;34m(\u001b[0m\u001b[0me\u001b[0m\u001b[0;34m)\u001b[0m\u001b[0;34m(\u001b[0m\u001b[0mnode_def\u001b[0m\u001b[0;34m,\u001b[0m \u001b[0mop\u001b[0m\u001b[0;34m,\u001b[0m \u001b[0mmessage\u001b[0m\u001b[0;34m)\u001b[0m\u001b[0;34m\u001b[0m\u001b[0m\n\u001b[0m\u001b[1;32m    979\u001b[0m \u001b[0;34m\u001b[0m\u001b[0m\n\u001b[1;32m    980\u001b[0m   \u001b[0;32mdef\u001b[0m \u001b[0m_extend_graph\u001b[0m\u001b[0;34m(\u001b[0m\u001b[0mself\u001b[0m\u001b[0;34m)\u001b[0m\u001b[0;34m:\u001b[0m\u001b[0;34m\u001b[0m\u001b[0m\n",
      "\u001b[0;31mInvalidArgumentError\u001b[0m: Matrix size-compatible: In[0]: [20,20], In[1]: [1,1]\n\t [[Node: MatMul_225 = MatMul[T=DT_FLOAT, transpose_a=false, transpose_b=false, _device=\"/job:localhost/replica:0/task:0/cpu:0\"](BatchMatMul_2, dense_12_W/read)]]\nCaused by op u'MatMul_225', defined at:\n  File \"/Users/Dan/anaconda/envs/hw2/lib/python2.7/runpy.py\", line 174, in _run_module_as_main\n    \"__main__\", fname, loader, pkg_name)\n  File \"/Users/Dan/anaconda/envs/hw2/lib/python2.7/runpy.py\", line 72, in _run_code\n    exec code in run_globals\n  File \"/Users/Dan/anaconda/envs/hw2/lib/python2.7/site-packages/ipykernel/__main__.py\", line 3, in <module>\n    app.launch_new_instance()\n  File \"/Users/Dan/anaconda/envs/hw2/lib/python2.7/site-packages/traitlets/config/application.py\", line 653, in launch_instance\n    app.start()\n  File \"/Users/Dan/anaconda/envs/hw2/lib/python2.7/site-packages/ipykernel/kernelapp.py\", line 474, in start\n    ioloop.IOLoop.instance().start()\n  File \"/Users/Dan/anaconda/envs/hw2/lib/python2.7/site-packages/zmq/eventloop/ioloop.py\", line 162, in start\n    super(ZMQIOLoop, self).start()\n  File \"/Users/Dan/anaconda/envs/hw2/lib/python2.7/site-packages/tornado/ioloop.py\", line 887, in start\n    handler_func(fd_obj, events)\n  File \"/Users/Dan/anaconda/envs/hw2/lib/python2.7/site-packages/tornado/stack_context.py\", line 275, in null_wrapper\n    return fn(*args, **kwargs)\n  File \"/Users/Dan/anaconda/envs/hw2/lib/python2.7/site-packages/zmq/eventloop/zmqstream.py\", line 440, in _handle_events\n    self._handle_recv()\n  File \"/Users/Dan/anaconda/envs/hw2/lib/python2.7/site-packages/zmq/eventloop/zmqstream.py\", line 472, in _handle_recv\n    self._run_callback(callback, msg)\n  File \"/Users/Dan/anaconda/envs/hw2/lib/python2.7/site-packages/zmq/eventloop/zmqstream.py\", line 414, in _run_callback\n    callback(*args, **kwargs)\n  File \"/Users/Dan/anaconda/envs/hw2/lib/python2.7/site-packages/tornado/stack_context.py\", line 275, in null_wrapper\n    return fn(*args, **kwargs)\n  File \"/Users/Dan/anaconda/envs/hw2/lib/python2.7/site-packages/ipykernel/kernelbase.py\", line 276, in dispatcher\n    return self.dispatch_shell(stream, msg)\n  File \"/Users/Dan/anaconda/envs/hw2/lib/python2.7/site-packages/ipykernel/kernelbase.py\", line 228, in dispatch_shell\n    handler(stream, idents, msg)\n  File \"/Users/Dan/anaconda/envs/hw2/lib/python2.7/site-packages/ipykernel/kernelbase.py\", line 390, in execute_request\n    user_expressions, allow_stdin)\n  File \"/Users/Dan/anaconda/envs/hw2/lib/python2.7/site-packages/ipykernel/ipkernel.py\", line 196, in do_execute\n    res = shell.run_cell(code, store_history=store_history, silent=silent)\n  File \"/Users/Dan/anaconda/envs/hw2/lib/python2.7/site-packages/ipykernel/zmqshell.py\", line 501, in run_cell\n    return super(ZMQInteractiveShell, self).run_cell(*args, **kwargs)\n  File \"/Users/Dan/anaconda/envs/hw2/lib/python2.7/site-packages/IPython/core/interactiveshell.py\", line 2717, in run_cell\n    interactivity=interactivity, compiler=compiler, result=result)\n  File \"/Users/Dan/anaconda/envs/hw2/lib/python2.7/site-packages/IPython/core/interactiveshell.py\", line 2821, in run_ast_nodes\n    if self.run_code(code, result):\n  File \"/Users/Dan/anaconda/envs/hw2/lib/python2.7/site-packages/IPython/core/interactiveshell.py\", line 2881, in run_code\n    exec(code_obj, self.user_global_ns, self.user_ns)\n  File \"<ipython-input-22-379078536575>\", line 24, in <module>\n    final_output = Dense(1, activation='relu')(output)\n  File \"/Users/Dan/anaconda/envs/hw2/lib/python2.7/site-packages/keras/engine/topology.py\", line 514, in __call__\n    self.add_inbound_node(inbound_layers, node_indices, tensor_indices)\n  File \"/Users/Dan/anaconda/envs/hw2/lib/python2.7/site-packages/keras/engine/topology.py\", line 572, in add_inbound_node\n    Node.create_node(self, inbound_layers, node_indices, tensor_indices)\n  File \"/Users/Dan/anaconda/envs/hw2/lib/python2.7/site-packages/keras/engine/topology.py\", line 149, in create_node\n    output_tensors = to_list(outbound_layer.call(input_tensors[0], mask=input_masks[0]))\n  File \"/Users/Dan/anaconda/envs/hw2/lib/python2.7/site-packages/keras/layers/core.py\", line 727, in call\n    output = K.dot(x, self.W)\n  File \"/Users/Dan/anaconda/envs/hw2/lib/python2.7/site-packages/keras/backend/tensorflow_backend.py\", line 349, in dot\n    out = tf.matmul(x, y)\n  File \"/Users/Dan/anaconda/envs/hw2/lib/python2.7/site-packages/tensorflow/python/ops/math_ops.py\", line 1352, in matmul\n    name=name)\n  File \"/Users/Dan/anaconda/envs/hw2/lib/python2.7/site-packages/tensorflow/python/ops/gen_math_ops.py\", line 1296, in _mat_mul\n    transpose_b=transpose_b, name=name)\n  File \"/Users/Dan/anaconda/envs/hw2/lib/python2.7/site-packages/tensorflow/python/framework/op_def_library.py\", line 703, in apply_op\n    op_def=op_def)\n  File \"/Users/Dan/anaconda/envs/hw2/lib/python2.7/site-packages/tensorflow/python/framework/ops.py\", line 2317, in create_op\n    original_op=self._default_original_op, op_def=op_def)\n  File \"/Users/Dan/anaconda/envs/hw2/lib/python2.7/site-packages/tensorflow/python/framework/ops.py\", line 1239, in __init__\n    self._traceback = _extract_stack()\n"
     ]
    }
   ],
   "source": [
    "# X_train needs to be a list of numpy arrays\n",
    "X_train = np.array(X_train)\n",
    "X_train_list = [X_train[:,val,:] for val in range(X_train.shape[1])]\n",
    "model.fit(X_train_list, Y_train, nb_epoch=1, batch_size=20)"
   ]
  },
  {
   "cell_type": "code",
   "execution_count": 20,
   "metadata": {
    "collapsed": false
   },
   "outputs": [],
   "source": [
    "new_train_list = [val[:10] for val in X_train_list]\n",
    "test_preds = model.predict(new_train_list)"
   ]
  },
  {
   "cell_type": "code",
   "execution_count": 5,
   "metadata": {
    "collapsed": false
   },
   "outputs": [
    {
     "name": "stdout",
     "output_type": "stream",
     "text": [
      "____________________________________________________________________________________________________\n",
      "Layer (type)                     Output Shape          Param #     Connected to                     \n",
      "====================================================================================================\n",
      "input_1 (InputLayer)             (None, 29)            0                                            \n",
      "____________________________________________________________________________________________________\n",
      "input_2 (InputLayer)             (None, 29)            0                                            \n",
      "____________________________________________________________________________________________________\n",
      "input_3 (InputLayer)             (None, 29)            0                                            \n",
      "____________________________________________________________________________________________________\n",
      "input_4 (InputLayer)             (None, 29)            0                                            \n",
      "____________________________________________________________________________________________________\n",
      "input_5 (InputLayer)             (None, 29)            0                                            \n",
      "____________________________________________________________________________________________________\n",
      "input_6 (InputLayer)             (None, 29)            0                                            \n",
      "____________________________________________________________________________________________________\n",
      "input_7 (InputLayer)             (None, 29)            0                                            \n",
      "____________________________________________________________________________________________________\n",
      "input_8 (InputLayer)             (None, 29)            0                                            \n",
      "____________________________________________________________________________________________________\n",
      "input_9 (InputLayer)             (None, 29)            0                                            \n",
      "____________________________________________________________________________________________________\n",
      "input_10 (InputLayer)            (None, 29)            0                                            \n",
      "____________________________________________________________________________________________________\n",
      "input_11 (InputLayer)            (None, 29)            0                                            \n",
      "____________________________________________________________________________________________________\n",
      "input_12 (InputLayer)            (None, 29)            0                                            \n",
      "____________________________________________________________________________________________________\n",
      "input_13 (InputLayer)            (None, 29)            0                                            \n",
      "____________________________________________________________________________________________________\n",
      "input_14 (InputLayer)            (None, 29)            0                                            \n",
      "____________________________________________________________________________________________________\n",
      "input_15 (InputLayer)            (None, 29)            0                                            \n",
      "____________________________________________________________________________________________________\n",
      "input_16 (InputLayer)            (None, 29)            0                                            \n",
      "____________________________________________________________________________________________________\n",
      "input_17 (InputLayer)            (None, 29)            0                                            \n",
      "____________________________________________________________________________________________________\n",
      "input_18 (InputLayer)            (None, 29)            0                                            \n",
      "____________________________________________________________________________________________________\n",
      "input_19 (InputLayer)            (None, 29)            0                                            \n",
      "____________________________________________________________________________________________________\n",
      "input_20 (InputLayer)            (None, 29)            0                                            \n",
      "____________________________________________________________________________________________________\n",
      "input_21 (InputLayer)            (None, 29)            0                                            \n",
      "____________________________________________________________________________________________________\n",
      "input_22 (InputLayer)            (None, 29)            0                                            \n",
      "____________________________________________________________________________________________________\n",
      "input_23 (InputLayer)            (None, 29)            0                                            \n",
      "____________________________________________________________________________________________________\n",
      "input_24 (InputLayer)            (None, 29)            0                                            \n",
      "____________________________________________________________________________________________________\n",
      "input_25 (InputLayer)            (None, 29)            0                                            \n",
      "____________________________________________________________________________________________________\n",
      "dense_1 (Dense)                  (None, 5)             150         input_1[0][0]                    \n",
      "                                                                   input_2[0][0]                    \n",
      "                                                                   input_3[0][0]                    \n",
      "                                                                   input_4[0][0]                    \n",
      "                                                                   input_5[0][0]                    \n",
      "                                                                   input_6[0][0]                    \n",
      "                                                                   input_7[0][0]                    \n",
      "                                                                   input_8[0][0]                    \n",
      "                                                                   input_9[0][0]                    \n",
      "                                                                   input_10[0][0]                   \n",
      "                                                                   input_11[0][0]                   \n",
      "                                                                   input_12[0][0]                   \n",
      "                                                                   input_13[0][0]                   \n",
      "                                                                   input_14[0][0]                   \n",
      "                                                                   input_15[0][0]                   \n",
      "                                                                   input_16[0][0]                   \n",
      "                                                                   input_17[0][0]                   \n",
      "                                                                   input_18[0][0]                   \n",
      "                                                                   input_19[0][0]                   \n",
      "                                                                   input_20[0][0]                   \n",
      "                                                                   input_21[0][0]                   \n",
      "                                                                   input_22[0][0]                   \n",
      "                                                                   input_23[0][0]                   \n",
      "                                                                   input_24[0][0]                   \n",
      "                                                                   input_25[0][0]                   \n",
      "____________________________________________________________________________________________________\n",
      "dropout_1 (Dropout)              (None, 5)             0           dense_1[0][0]                    \n",
      "                                                                   dense_1[1][0]                    \n",
      "                                                                   dense_1[2][0]                    \n",
      "                                                                   dense_1[3][0]                    \n",
      "                                                                   dense_1[4][0]                    \n",
      "                                                                   dense_1[5][0]                    \n",
      "                                                                   dense_1[6][0]                    \n",
      "                                                                   dense_1[7][0]                    \n",
      "                                                                   dense_1[8][0]                    \n",
      "                                                                   dense_1[9][0]                    \n",
      "                                                                   dense_1[10][0]                   \n",
      "                                                                   dense_1[11][0]                   \n",
      "                                                                   dense_1[12][0]                   \n",
      "                                                                   dense_1[13][0]                   \n",
      "                                                                   dense_1[14][0]                   \n",
      "                                                                   dense_1[15][0]                   \n",
      "                                                                   dense_1[16][0]                   \n",
      "                                                                   dense_1[17][0]                   \n",
      "                                                                   dense_1[18][0]                   \n",
      "                                                                   dense_1[19][0]                   \n",
      "                                                                   dense_1[20][0]                   \n",
      "                                                                   dense_1[21][0]                   \n",
      "                                                                   dense_1[22][0]                   \n",
      "                                                                   dense_1[23][0]                   \n",
      "                                                                   dense_1[24][0]                   \n",
      "____________________________________________________________________________________________________\n",
      "dense_2 (Dense)                  (None, 1)             6           dropout_1[0][0]                  \n",
      "                                                                   dropout_1[1][0]                  \n",
      "                                                                   dropout_1[2][0]                  \n",
      "                                                                   dropout_1[3][0]                  \n",
      "                                                                   dropout_1[4][0]                  \n",
      "                                                                   dropout_1[5][0]                  \n",
      "                                                                   dropout_1[6][0]                  \n",
      "                                                                   dropout_1[7][0]                  \n",
      "                                                                   dropout_1[8][0]                  \n",
      "                                                                   dropout_1[9][0]                  \n",
      "                                                                   dropout_1[10][0]                 \n",
      "                                                                   dropout_1[11][0]                 \n",
      "                                                                   dropout_1[12][0]                 \n",
      "                                                                   dropout_1[13][0]                 \n",
      "                                                                   dropout_1[14][0]                 \n",
      "                                                                   dropout_1[15][0]                 \n",
      "                                                                   dropout_1[16][0]                 \n",
      "                                                                   dropout_1[17][0]                 \n",
      "                                                                   dropout_1[18][0]                 \n",
      "                                                                   dropout_1[19][0]                 \n",
      "                                                                   dropout_1[20][0]                 \n",
      "                                                                   dropout_1[21][0]                 \n",
      "                                                                   dropout_1[22][0]                 \n",
      "                                                                   dropout_1[23][0]                 \n",
      "                                                                   dropout_1[24][0]                 \n",
      "____________________________________________________________________________________________________\n",
      "dense_3 (Dense)                  (None, 1)             30          input_1[0][0]                    \n",
      "                                                                   input_2[0][0]                    \n",
      "                                                                   input_3[0][0]                    \n",
      "                                                                   input_4[0][0]                    \n",
      "                                                                   input_5[0][0]                    \n",
      "                                                                   input_6[0][0]                    \n",
      "                                                                   input_7[0][0]                    \n",
      "                                                                   input_8[0][0]                    \n",
      "                                                                   input_9[0][0]                    \n",
      "                                                                   input_10[0][0]                   \n",
      "                                                                   input_11[0][0]                   \n",
      "                                                                   input_12[0][0]                   \n",
      "                                                                   input_13[0][0]                   \n",
      "                                                                   input_14[0][0]                   \n",
      "                                                                   input_15[0][0]                   \n",
      "                                                                   input_16[0][0]                   \n",
      "                                                                   input_17[0][0]                   \n",
      "                                                                   input_18[0][0]                   \n",
      "                                                                   input_19[0][0]                   \n",
      "                                                                   input_20[0][0]                   \n",
      "                                                                   input_21[0][0]                   \n",
      "                                                                   input_22[0][0]                   \n",
      "                                                                   input_23[0][0]                   \n",
      "                                                                   input_24[0][0]                   \n",
      "                                                                   input_25[0][0]                   \n",
      "____________________________________________________________________________________________________\n",
      "merge_1 (Merge)                  (None, 25)            0           dense_2[0][0]                    \n",
      "                                                                   dense_2[1][0]                    \n",
      "                                                                   dense_2[2][0]                    \n",
      "                                                                   dense_2[3][0]                    \n",
      "                                                                   dense_2[4][0]                    \n",
      "                                                                   dense_2[5][0]                    \n",
      "                                                                   dense_2[6][0]                    \n",
      "                                                                   dense_2[7][0]                    \n",
      "                                                                   dense_2[8][0]                    \n",
      "                                                                   dense_2[9][0]                    \n",
      "                                                                   dense_2[10][0]                   \n",
      "                                                                   dense_2[11][0]                   \n",
      "                                                                   dense_2[12][0]                   \n",
      "                                                                   dense_2[13][0]                   \n",
      "                                                                   dense_2[14][0]                   \n",
      "                                                                   dense_2[15][0]                   \n",
      "                                                                   dense_2[16][0]                   \n",
      "                                                                   dense_2[17][0]                   \n",
      "                                                                   dense_2[18][0]                   \n",
      "                                                                   dense_2[19][0]                   \n",
      "                                                                   dense_2[20][0]                   \n",
      "                                                                   dense_2[21][0]                   \n",
      "                                                                   dense_2[22][0]                   \n",
      "                                                                   dense_2[23][0]                   \n",
      "                                                                   dense_2[24][0]                   \n",
      "____________________________________________________________________________________________________\n",
      "merge_2 (Merge)                  (None, 25)            0           dense_3[0][0]                    \n",
      "                                                                   dense_3[1][0]                    \n",
      "                                                                   dense_3[2][0]                    \n",
      "                                                                   dense_3[3][0]                    \n",
      "                                                                   dense_3[4][0]                    \n",
      "                                                                   dense_3[5][0]                    \n",
      "                                                                   dense_3[6][0]                    \n",
      "                                                                   dense_3[7][0]                    \n",
      "                                                                   dense_3[8][0]                    \n",
      "                                                                   dense_3[9][0]                    \n",
      "                                                                   dense_3[10][0]                   \n",
      "                                                                   dense_3[11][0]                   \n",
      "                                                                   dense_3[12][0]                   \n",
      "                                                                   dense_3[13][0]                   \n",
      "                                                                   dense_3[14][0]                   \n",
      "                                                                   dense_3[15][0]                   \n",
      "                                                                   dense_3[16][0]                   \n",
      "                                                                   dense_3[17][0]                   \n",
      "                                                                   dense_3[18][0]                   \n",
      "                                                                   dense_3[19][0]                   \n",
      "                                                                   dense_3[20][0]                   \n",
      "                                                                   dense_3[21][0]                   \n",
      "                                                                   dense_3[22][0]                   \n",
      "                                                                   dense_3[23][0]                   \n",
      "                                                                   dense_3[24][0]                   \n",
      "____________________________________________________________________________________________________\n",
      "merge_3 (Merge)                  (None, 1)             0           merge_1[0][0]                    \n",
      "                                                                   merge_2[0][0]                    \n",
      "____________________________________________________________________________________________________\n",
      "dense_4 (Dense)                  (None, 1)             2           merge_3[0][0]                    \n",
      "====================================================================================================\n",
      "Total params: 188\n",
      "____________________________________________________________________________________________________\n",
      "None\n"
     ]
    }
   ],
   "source": [
    "print model.summary()"
   ]
  },
  {
   "cell_type": "code",
   "execution_count": 29,
   "metadata": {
    "collapsed": false
   },
   "outputs": [
    {
     "name": "stdout",
     "output_type": "stream",
     "text": [
      "[ 0.   0.   0.   0.   0.   0.   0.   0.   0.   0.   0.   0.   0.   1.   0.\n",
      "  0.   0.   0.   0.   0.   1.   1.   0.   0.   0.   0.   0.   0.   0.   0.\n",
      "  0.   0.   0.   0.   1.   1.   1.   0.   0.   0.   0.   0.   0.   0.   0.\n",
      "  0.   0.   0.   0.   0.   0.   1.   0.   0.   0.   0.   0.   0.   1.   1.\n",
      "  0.   1.   0.   0.   0.   0.   0.   0.   0.   0.5  0.   0.   0.   0.   0.\n",
      "  0.   0.   0.   0.   0.   0.   0.   0.   0.   0.   0.   0.   0.   0.   0.\n",
      "  0.   0.5  1.   0.   0.   0.   0.   0.   0.   0. ]\n"
     ]
    }
   ],
   "source": [
    "print Y_train[:100]"
   ]
  },
  {
   "cell_type": "code",
   "execution_count": 98,
   "metadata": {
    "collapsed": false
   },
   "outputs": [],
   "source": [
    "# Test model\n",
    "X_test = np.array(X_test)\n",
    "X_test_list = [X_test[:,val,:] for val in range(X_test.shape[1])]\n",
    "\n",
    "pred_ranks = model.predict(X_test_list, batch_size=491)"
   ]
  },
  {
   "cell_type": "code",
   "execution_count": 46,
   "metadata": {
    "collapsed": false
   },
   "outputs": [],
   "source": [
    "\n",
    "\n",
    "#[0][0] = id, [0][1] = topic, [1] = rank\n",
    "ranks_and_keys = zip(test_keys, pred_ranks)\n",
    "result_dict = defaultdict(lambda: [])\n",
    "for val in ranks_and_keys:\n",
    "    result_dict[val[0][1]].append((val[1][0], val[0][0]))\n",
    "\n",
    "with open('cat_query_results','wb') as f:\n",
    "    for cur_topic in range(30):\n",
    "        topic_results = result_dict[str(cur_topic)]\n",
    "        topic_results.sort(reverse=True)\n",
    "\n",
    "        for result_rank, cur_result in enumerate(topic_results[:1000]):\n",
    "            line_to_write = [str(cur_topic + 1), '0', str(cur_result[1]), str(result_rank + 1), str(cur_result[0]), 'test_run', '\\n']\n",
    "            f.write(\" \".join(line_to_write))"
   ]
  },
  {
   "cell_type": "code",
   "execution_count": 88,
   "metadata": {
    "collapsed": false
   },
   "outputs": [
    {
     "name": "stdout",
     "output_type": "stream",
     "text": [
      "[(25, 37807)]\n"
     ]
    }
   ],
   "source": [
    "lens = [len(val) for val in X_test]\n",
    "from collections import Counter\n",
    "counts = Counter(lens)\n",
    "print counts.most_common()"
   ]
  },
  {
   "cell_type": "code",
   "execution_count": 103,
   "metadata": {
    "collapsed": false
   },
   "outputs": [
    {
     "name": "stdout",
     "output_type": "stream",
     "text": [
      "[[  0.   0.   0.   0.   0.   0.   0.   0.   0.   0.   0.   5.  11.  33.\n",
      "   39.  25.  15.   0.   0.   0.   0.   0.   0.   0.   0.   0.   0.   0.\n",
      "    0.]\n",
      " [  0.   0.   0.   0.   0.   0.   0.   0.   0.   0.   0.   0.   4.  28.\n",
      "   47.  36.   7.   6.   0.   0.   0.   0.   0.   0.   0.   0.   0.   0.\n",
      "    0.]\n",
      " [  0.   0.   0.   0.   0.   0.   0.   0.   0.   0.   0.   0.  28.  36.\n",
      "   39.  19.   4.   2.   0.   0.   0.   0.   0.   0.   0.   0.   0.   0.\n",
      "    0.]\n",
      " [  0.   0.   0.   0.   0.   0.   0.   0.   0.   0.   5.   1.   5.  14.\n",
      "   28.  33.  22.  15.   5.   0.   0.   0.   0.   0.   0.   0.   0.   0.\n",
      "    0.]\n",
      " [  0.   0.   0.   0.   0.   0.   0.   0.   0.   0.   0.   0.   9.  16.\n",
      "   20.  50.  24.   7.   1.   1.   0.   0.   0.   0.   0.   0.   0.   0.\n",
      "    0.]\n",
      " [  0.   0.   0.   0.   0.   0.   0.   0.   0.   0.   5.  18.  35.  26.\n",
      "   24.   7.   5.   5.   2.   0.   0.   0.   0.   0.   0.   0.   0.   0.\n",
      "    1.]\n",
      " [  0.   0.   0.   0.   0.   0.   0.   0.   0.   0.   0.   0.   8.   9.\n",
      "   36.  29.  38.   6.   2.   0.   0.   0.   0.   0.   0.   0.   0.   0.\n",
      "    0.]\n",
      " [  0.   0.   0.   0.   0.   0.   0.   0.   0.   0.   0.   1.   5.  11.\n",
      "   24.  25.  28.  27.   5.   2.   0.   0.   0.   0.   0.   0.   0.   0.\n",
      "    0.]\n",
      " [  0.   0.   0.   0.   0.   0.   0.   0.   0.   0.   0.   1.   6.  43.\n",
      "   47.  22.   6.   3.   0.   0.   0.   0.   0.   0.   0.   0.   0.   0.\n",
      "    0.]\n",
      " [  0.   0.   0.   0.   0.   0.   0.   0.   0.   0.   0.   0.  22.  43.\n",
      "   30.  25.   8.   0.   0.   0.   0.   0.   0.   0.   0.   0.   0.   0.\n",
      "    0.]\n",
      " [  0.   0.   0.   0.   0.   0.   0.   0.   0.   3.   2.   3.   6.  51.\n",
      "   42.  14.   4.   3.   0.   0.   0.   0.   0.   0.   0.   0.   0.   0.\n",
      "    0.]\n",
      " [  0.   0.   0.   0.   0.   0.   0.   0.   0.   0.   0.   0.   0.  22.\n",
      "   18.  32.  22.   8.  14.   5.   6.   0.   0.   0.   0.   0.   0.   0.\n",
      "    0.]\n",
      " [  0.   0.   0.   0.   0.   0.   0.   0.   0.   0.   0.   0.   7.   7.\n",
      "   41.  30.  17.  16.   5.   0.   2.   2.   1.   0.   0.   0.   0.   0.\n",
      "    0.]\n",
      " [  0.   0.   0.   0.   0.   0.   0.   0.   0.   0.   1.   8.  11.  14.\n",
      "   14.  28.  22.  12.  14.   0.   1.   0.   0.   3.   0.   0.   0.   0.\n",
      "    0.]\n",
      " [  0.   0.   0.   0.   0.   0.   0.   0.   0.   0.   2.   3.  20.  11.\n",
      "    9.  15.  34.  13.  12.   5.   1.   0.   0.   0.   0.   0.   3.   0.\n",
      "    0.]\n",
      " [  0.   0.   0.   0.   0.   0.   0.   0.   0.   0.   0.   3.   9.  14.\n",
      "   14.  20.  14.  23.  16.  10.   3.   2.   0.   0.   0.   0.   0.   0.\n",
      "    0.]\n",
      " [  0.   0.   0.   0.   0.   0.   0.   0.   0.   0.   0.   5.  16.  22.\n",
      "   33.  34.  10.   3.   5.   0.   0.   0.   0.   0.   0.   0.   0.   0.\n",
      "    0.]\n",
      " [  0.   0.   0.   0.   0.   0.   0.   0.   0.   0.   1.  33.  39.  29.\n",
      "    9.   6.   5.   6.   0.   0.   0.   0.   0.   0.   0.   0.   0.   0.\n",
      "    0.]\n",
      " [  0.   0.   0.   0.   0.   0.   0.   0.   0.   1.   2.  11.  10.  14.\n",
      "   23.  20.  22.  20.   3.   0.   1.   0.   0.   0.   0.   0.   0.   0.\n",
      "    1.]\n",
      " [  0.   0.   0.   0.   0.   0.   0.   0.   0.   0.   0.   0.   7.  30.\n",
      "   32.  30.  15.  10.   3.   0.   1.   0.   0.   0.   0.   0.   0.   0.\n",
      "    0.]\n",
      " [  0.   0.   0.   0.   0.   0.   0.   0.   0.   0.   0.   1.   7.  20.\n",
      "   24.  45.  25.   5.   0.   1.   0.   0.   0.   0.   0.   0.   0.   0.\n",
      "    0.]\n",
      " [  0.   0.   0.   0.   0.   0.   0.   0.   0.   0.   0.   3.  12.  32.\n",
      "   41.  22.  16.   2.   0.   0.   0.   0.   0.   0.   0.   0.   0.   0.\n",
      "    0.]\n",
      " [  0.   0.   0.   0.   0.   0.   0.   0.   0.   0.   0.   5.   2.  26.\n",
      "   19.  28.  13.  22.  11.   1.   1.   0.   0.   0.   0.   0.   0.   0.\n",
      "    0.]\n",
      " [  0.   0.   0.   0.   0.   0.   0.   0.   0.   0.   0.   7.  20.  27.\n",
      "   33.  31.   7.   0.   0.   0.   3.   0.   0.   0.   0.   0.   0.   0.\n",
      "    0.]\n",
      " [  0.   0.   0.   0.   0.   0.   0.   0.   0.   0.   0.   1.   4.  20.\n",
      "   23.  17.  22.  16.  15.   1.   9.   0.   0.   0.   0.   0.   0.   0.\n",
      "    0.]]\n"
     ]
    }
   ],
   "source": [
    "print "
   ]
  },
  {
   "cell_type": "code",
   "execution_count": null,
   "metadata": {
    "collapsed": true
   },
   "outputs": [],
   "source": []
  },
  {
   "cell_type": "code",
   "execution_count": 15,
   "metadata": {
    "collapsed": false
   },
   "outputs": [
    {
     "name": "stdout",
     "output_type": "stream",
     "text": [
      "[('2794284', '20'), ('3510867', '23'), ('2275225', '21'), ('3658214', '26'), ('2830982', '4'), ('2533397', '5'), ('3838404', '12'), ('1570135', '7'), ('3565924', '6'), ('3274658', '12')]\n"
     ]
    }
   ],
   "source": [
    "print train_dict.keys()[:10]"
   ]
  },
  {
   "cell_type": "code",
   "execution_count": 16,
   "metadata": {
    "collapsed": false
   },
   "outputs": [
    {
     "name": "stdout",
     "output_type": "stream",
     "text": [
      "[  0   0   0   0   0   0   0   0   0   0   1  10  93 301 428 335  90  39\n",
      "   9   5   4   0   0   0   0   0   0   0   1]\n",
      "[  0   0   0   0   0   0   0   0   0   0   4  27 189 504 524 399 188  85\n",
      "  35  25   5   1   0   0   1   0   0   0   2]\n",
      "[  0   0   0   0   0   0   0   0   0   0   2  20  84  96 111  62  25  13\n",
      "   2   0   0   0   0   0   0   0   0   0   0]\n",
      "[ 0  0  0  0  0  0  0  0  0  0  0  0  9 57 82 56 34  8  8  4  1  0  0  0  0\n",
      "  0  0  0  2]\n",
      "[  0   0   0   0   0   0   0   0   0   0   1  35 150 406 558 502 233 134\n",
      "  54  13   4   3   0   2   1   1   0   0   2]\n",
      "[  0   0   0   0   0   0   0   0   0   0   3  27 110 245 226 179  82  58\n",
      "   8  10   3   0   0   0   0   0   0   0   0]\n",
      "[  0   0   0   0   0   0   0   0   0   0   3  34 117 232 273 135  86  42\n",
      "   6  12   1   0   0   1   1   1   0   0   1]\n",
      "[  0   0   0   0   0   0   0   0   0   0  16  75 258 451 560 394 219  84\n",
      "  54   2   2   0   0   0   0   0   0   0   0]\n",
      "[  0   0   0   0   0   0   0   0   0   0   2   8  66 371 435 424 195  75\n",
      "  60  20   5  10   1   0   0   0   0   0   0]\n",
      "[ 0  0  0  0  0  0  0  0  0  0  2  8 22 63 85 74 47 30 16  8  4  0  0  0  0\n",
      "  0  0  0  1]\n"
     ]
    }
   ],
   "source": [
    "for val in train_dict.keys()[:10]:\n",
    "    print train_dict[val]"
   ]
  },
  {
   "cell_type": "code",
   "execution_count": 18,
   "metadata": {
    "collapsed": false
   },
   "outputs": [
    {
     "name": "stdout",
     "output_type": "stream",
     "text": [
      "(31403, 3, 29)\n"
     ]
    }
   ],
   "source": [
    "thing = [[val, val, val] for val in X_train]\n",
    "print np.array(thing).shape"
   ]
  },
  {
   "cell_type": "code",
   "execution_count": 74,
   "metadata": {
    "collapsed": false
   },
   "outputs": [
    {
     "name": "stdout",
     "output_type": "stream",
     "text": [
      "25\n"
     ]
    }
   ],
   "source": [
    "print len(X_train[0])"
   ]
  },
  {
   "cell_type": "code",
   "execution_count": 83,
   "metadata": {
    "collapsed": false
   },
   "outputs": [
    {
     "name": "stdout",
     "output_type": "stream",
     "text": [
      "25\n"
     ]
    }
   ],
   "source": [
    "print np.array(X_train).shape[1]"
   ]
  },
  {
   "cell_type": "code",
   "execution_count": 13,
   "metadata": {
    "collapsed": false
   },
   "outputs": [],
   "source": [
    "output_1 = [shared_dense(val) for val in inputs]"
   ]
  },
  {
   "cell_type": "code",
   "execution_count": 14,
   "metadata": {
    "collapsed": false
   },
   "outputs": [
    {
     "name": "stdout",
     "output_type": "stream",
     "text": [
      "[<tf.Tensor 'Relu_2:0' shape=(?, 5) dtype=float32>, <tf.Tensor 'Relu_3:0' shape=(?, 5) dtype=float32>, <tf.Tensor 'Relu_4:0' shape=(?, 5) dtype=float32>]\n"
     ]
    }
   ],
   "source": [
    "print output_1"
   ]
  },
  {
   "cell_type": "code",
   "execution_count": null,
   "metadata": {
    "collapsed": true
   },
   "outputs": [],
   "source": []
  }
 ],
 "metadata": {
  "anaconda-cloud": {},
  "kernelspec": {
   "display_name": "Python [default]",
   "language": "python",
   "name": "python2"
  },
  "language_info": {
   "codemirror_mode": {
    "name": "ipython",
    "version": 2
   },
   "file_extension": ".py",
   "mimetype": "text/x-python",
   "name": "python",
   "nbconvert_exporter": "python",
   "pygments_lexer": "ipython2",
   "version": "2.7.12"
  }
 },
 "nbformat": 4,
 "nbformat_minor": 0
}
